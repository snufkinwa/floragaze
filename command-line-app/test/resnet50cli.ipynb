{
  "nbformat": 4,
  "nbformat_minor": 0,
  "metadata": {
    "colab": {
      "provenance": [],
      "machine_shape": "hm",
      "gpuType": "L4"
    },
    "kernelspec": {
      "name": "python3",
      "display_name": "Python 3"
    },
    "language_info": {
      "name": "python"
    },
    "accelerator": "GPU"
  },
  "cells": [
    {
      "cell_type": "code",
      "source": [
        "# Unzip your project files\n",
        "!unzip /content/command-line-app.zip -d /content/"
      ],
      "metadata": {
        "colab": {
          "base_uri": "https://localhost:8080/"
        },
        "id": "fR7YrpH4L3TH",
        "outputId": "401aaa4a-985e-4a47-b8fa-3c0eb261a4c0"
      },
      "execution_count": 1,
      "outputs": [
        {
          "output_type": "stream",
          "name": "stdout",
          "text": [
            "Archive:  /content/command-line-app.zip\n",
            "   creating: /content/command-line-app/\n",
            "  inflating: /content/command-line-app/requirements.txt  \n",
            "  inflating: /content/command-line-app/predict.py  \n",
            "  inflating: /content/__MACOSX/command-line-app/._predict.py  \n",
            "  inflating: /content/command-line-app/model.py  \n",
            "  inflating: /content/command-line-app/get_input.py  \n",
            "  inflating: /content/command-line-app/utils.py  \n",
            "  inflating: /content/command-line-app/train.py  \n",
            "  inflating: /content/__MACOSX/command-line-app/._train.py  \n"
          ]
        }
      ]
    },
    {
      "cell_type": "code",
      "execution_count": 2,
      "metadata": {
        "colab": {
          "base_uri": "https://localhost:8080/"
        },
        "id": "7w-AFxW7KUZY",
        "outputId": "9f74d57e-e64d-4f97-e576-18a5fc321bc6"
      },
      "outputs": [
        {
          "output_type": "stream",
          "name": "stdout",
          "text": [
            "/content/command-line-app\n"
          ]
        }
      ],
      "source": [
        "%cd /content/command-line-app"
      ]
    },
    {
      "cell_type": "code",
      "source": [
        "!pip install -r requirements.txt"
      ],
      "metadata": {
        "colab": {
          "base_uri": "https://localhost:8080/"
        },
        "id": "JMZv10OXK1DB",
        "outputId": "9edd9619-cf9c-462c-bf95-27baf6e40025"
      },
      "execution_count": 3,
      "outputs": [
        {
          "output_type": "stream",
          "name": "stdout",
          "text": [
            "Requirement already satisfied: numpy in /usr/local/lib/python3.10/dist-packages (from -r requirements.txt (line 1)) (1.26.4)\n",
            "Requirement already satisfied: scipy in /usr/local/lib/python3.10/dist-packages (from -r requirements.txt (line 2)) (1.13.1)\n",
            "Requirement already satisfied: torch in /usr/local/lib/python3.10/dist-packages (from -r requirements.txt (line 3)) (2.3.1+cu121)\n",
            "Requirement already satisfied: torchvision in /usr/local/lib/python3.10/dist-packages (from -r requirements.txt (line 4)) (0.18.1+cu121)\n",
            "Requirement already satisfied: matplotlib in /usr/local/lib/python3.10/dist-packages (from -r requirements.txt (line 5)) (3.7.1)\n",
            "Requirement already satisfied: Pillow in /usr/local/lib/python3.10/dist-packages (from -r requirements.txt (line 6)) (9.4.0)\n",
            "Requirement already satisfied: tqdm in /usr/local/lib/python3.10/dist-packages (from -r requirements.txt (line 7)) (4.66.4)\n",
            "Requirement already satisfied: filelock in /usr/local/lib/python3.10/dist-packages (from torch->-r requirements.txt (line 3)) (3.15.4)\n",
            "Requirement already satisfied: typing-extensions>=4.8.0 in /usr/local/lib/python3.10/dist-packages (from torch->-r requirements.txt (line 3)) (4.12.2)\n",
            "Requirement already satisfied: sympy in /usr/local/lib/python3.10/dist-packages (from torch->-r requirements.txt (line 3)) (1.13.1)\n",
            "Requirement already satisfied: networkx in /usr/local/lib/python3.10/dist-packages (from torch->-r requirements.txt (line 3)) (3.3)\n",
            "Requirement already satisfied: jinja2 in /usr/local/lib/python3.10/dist-packages (from torch->-r requirements.txt (line 3)) (3.1.4)\n",
            "Requirement already satisfied: fsspec in /usr/local/lib/python3.10/dist-packages (from torch->-r requirements.txt (line 3)) (2024.6.1)\n",
            "Collecting nvidia-cuda-nvrtc-cu12==12.1.105 (from torch->-r requirements.txt (line 3))\n",
            "  Using cached nvidia_cuda_nvrtc_cu12-12.1.105-py3-none-manylinux1_x86_64.whl.metadata (1.5 kB)\n",
            "Collecting nvidia-cuda-runtime-cu12==12.1.105 (from torch->-r requirements.txt (line 3))\n",
            "  Using cached nvidia_cuda_runtime_cu12-12.1.105-py3-none-manylinux1_x86_64.whl.metadata (1.5 kB)\n",
            "Collecting nvidia-cuda-cupti-cu12==12.1.105 (from torch->-r requirements.txt (line 3))\n",
            "  Using cached nvidia_cuda_cupti_cu12-12.1.105-py3-none-manylinux1_x86_64.whl.metadata (1.6 kB)\n",
            "Collecting nvidia-cudnn-cu12==8.9.2.26 (from torch->-r requirements.txt (line 3))\n",
            "  Using cached nvidia_cudnn_cu12-8.9.2.26-py3-none-manylinux1_x86_64.whl.metadata (1.6 kB)\n",
            "Collecting nvidia-cublas-cu12==12.1.3.1 (from torch->-r requirements.txt (line 3))\n",
            "  Using cached nvidia_cublas_cu12-12.1.3.1-py3-none-manylinux1_x86_64.whl.metadata (1.5 kB)\n",
            "Collecting nvidia-cufft-cu12==11.0.2.54 (from torch->-r requirements.txt (line 3))\n",
            "  Using cached nvidia_cufft_cu12-11.0.2.54-py3-none-manylinux1_x86_64.whl.metadata (1.5 kB)\n",
            "Collecting nvidia-curand-cu12==10.3.2.106 (from torch->-r requirements.txt (line 3))\n",
            "  Using cached nvidia_curand_cu12-10.3.2.106-py3-none-manylinux1_x86_64.whl.metadata (1.5 kB)\n",
            "Collecting nvidia-cusolver-cu12==11.4.5.107 (from torch->-r requirements.txt (line 3))\n",
            "  Using cached nvidia_cusolver_cu12-11.4.5.107-py3-none-manylinux1_x86_64.whl.metadata (1.6 kB)\n",
            "Collecting nvidia-cusparse-cu12==12.1.0.106 (from torch->-r requirements.txt (line 3))\n",
            "  Using cached nvidia_cusparse_cu12-12.1.0.106-py3-none-manylinux1_x86_64.whl.metadata (1.6 kB)\n",
            "Collecting nvidia-nccl-cu12==2.20.5 (from torch->-r requirements.txt (line 3))\n",
            "  Using cached nvidia_nccl_cu12-2.20.5-py3-none-manylinux2014_x86_64.whl.metadata (1.8 kB)\n",
            "Collecting nvidia-nvtx-cu12==12.1.105 (from torch->-r requirements.txt (line 3))\n",
            "  Using cached nvidia_nvtx_cu12-12.1.105-py3-none-manylinux1_x86_64.whl.metadata (1.7 kB)\n",
            "Requirement already satisfied: triton==2.3.1 in /usr/local/lib/python3.10/dist-packages (from torch->-r requirements.txt (line 3)) (2.3.1)\n",
            "Collecting nvidia-nvjitlink-cu12 (from nvidia-cusolver-cu12==11.4.5.107->torch->-r requirements.txt (line 3))\n",
            "  Downloading nvidia_nvjitlink_cu12-12.6.20-py3-none-manylinux2014_x86_64.whl.metadata (1.5 kB)\n",
            "Requirement already satisfied: contourpy>=1.0.1 in /usr/local/lib/python3.10/dist-packages (from matplotlib->-r requirements.txt (line 5)) (1.2.1)\n",
            "Requirement already satisfied: cycler>=0.10 in /usr/local/lib/python3.10/dist-packages (from matplotlib->-r requirements.txt (line 5)) (0.12.1)\n",
            "Requirement already satisfied: fonttools>=4.22.0 in /usr/local/lib/python3.10/dist-packages (from matplotlib->-r requirements.txt (line 5)) (4.53.1)\n",
            "Requirement already satisfied: kiwisolver>=1.0.1 in /usr/local/lib/python3.10/dist-packages (from matplotlib->-r requirements.txt (line 5)) (1.4.5)\n",
            "Requirement already satisfied: packaging>=20.0 in /usr/local/lib/python3.10/dist-packages (from matplotlib->-r requirements.txt (line 5)) (24.1)\n",
            "Requirement already satisfied: pyparsing>=2.3.1 in /usr/local/lib/python3.10/dist-packages (from matplotlib->-r requirements.txt (line 5)) (3.1.2)\n",
            "Requirement already satisfied: python-dateutil>=2.7 in /usr/local/lib/python3.10/dist-packages (from matplotlib->-r requirements.txt (line 5)) (2.8.2)\n",
            "Requirement already satisfied: six>=1.5 in /usr/local/lib/python3.10/dist-packages (from python-dateutil>=2.7->matplotlib->-r requirements.txt (line 5)) (1.16.0)\n",
            "Requirement already satisfied: MarkupSafe>=2.0 in /usr/local/lib/python3.10/dist-packages (from jinja2->torch->-r requirements.txt (line 3)) (2.1.5)\n",
            "Requirement already satisfied: mpmath<1.4,>=1.1.0 in /usr/local/lib/python3.10/dist-packages (from sympy->torch->-r requirements.txt (line 3)) (1.3.0)\n",
            "Using cached nvidia_cublas_cu12-12.1.3.1-py3-none-manylinux1_x86_64.whl (410.6 MB)\n",
            "Using cached nvidia_cuda_cupti_cu12-12.1.105-py3-none-manylinux1_x86_64.whl (14.1 MB)\n",
            "Using cached nvidia_cuda_nvrtc_cu12-12.1.105-py3-none-manylinux1_x86_64.whl (23.7 MB)\n",
            "Using cached nvidia_cuda_runtime_cu12-12.1.105-py3-none-manylinux1_x86_64.whl (823 kB)\n",
            "Using cached nvidia_cudnn_cu12-8.9.2.26-py3-none-manylinux1_x86_64.whl (731.7 MB)\n",
            "Using cached nvidia_cufft_cu12-11.0.2.54-py3-none-manylinux1_x86_64.whl (121.6 MB)\n",
            "Using cached nvidia_curand_cu12-10.3.2.106-py3-none-manylinux1_x86_64.whl (56.5 MB)\n",
            "Using cached nvidia_cusolver_cu12-11.4.5.107-py3-none-manylinux1_x86_64.whl (124.2 MB)\n",
            "Using cached nvidia_cusparse_cu12-12.1.0.106-py3-none-manylinux1_x86_64.whl (196.0 MB)\n",
            "Using cached nvidia_nccl_cu12-2.20.5-py3-none-manylinux2014_x86_64.whl (176.2 MB)\n",
            "Using cached nvidia_nvtx_cu12-12.1.105-py3-none-manylinux1_x86_64.whl (99 kB)\n",
            "Downloading nvidia_nvjitlink_cu12-12.6.20-py3-none-manylinux2014_x86_64.whl (19.7 MB)\n",
            "\u001b[2K   \u001b[90m━━━━━━━━━━━━━━━━━━━━━━━━━━━━━━━━━━━━━━━━\u001b[0m \u001b[32m19.7/19.7 MB\u001b[0m \u001b[31m5.5 MB/s\u001b[0m eta \u001b[36m0:00:00\u001b[0m\n",
            "\u001b[?25hInstalling collected packages: nvidia-nvtx-cu12, nvidia-nvjitlink-cu12, nvidia-nccl-cu12, nvidia-curand-cu12, nvidia-cufft-cu12, nvidia-cuda-runtime-cu12, nvidia-cuda-nvrtc-cu12, nvidia-cuda-cupti-cu12, nvidia-cublas-cu12, nvidia-cusparse-cu12, nvidia-cudnn-cu12, nvidia-cusolver-cu12\n",
            "Successfully installed nvidia-cublas-cu12-12.1.3.1 nvidia-cuda-cupti-cu12-12.1.105 nvidia-cuda-nvrtc-cu12-12.1.105 nvidia-cuda-runtime-cu12-12.1.105 nvidia-cudnn-cu12-8.9.2.26 nvidia-cufft-cu12-11.0.2.54 nvidia-curand-cu12-10.3.2.106 nvidia-cusolver-cu12-11.4.5.107 nvidia-cusparse-cu12-12.1.0.106 nvidia-nccl-cu12-2.20.5 nvidia-nvjitlink-cu12-12.6.20 nvidia-nvtx-cu12-12.1.105\n"
          ]
        }
      ]
    },
    {
      "cell_type": "code",
      "source": [
        "!python /content/command-line-app/train.py \\\n",
        "    --data_directory '/content/command-line-app/flowers' \\\n",
        "    --save_dir '/content/command-line-app/' \\\n",
        "    --arch 'resnet50' \\\n",
        "    --learning_rate 0.001 \\\n",
        "    --hidden_units 1024 512 \\\n",
        "    --epochs 30 \\\n",
        "    --gpu"
      ],
      "metadata": {
        "colab": {
          "base_uri": "https://localhost:8080/"
        },
        "id": "3hEpa3wfK8A5",
        "outputId": "94520a5d-1ad5-43dd-d6b5-392165dcc3c4"
      },
      "execution_count": 4,
      "outputs": [
        {
          "output_type": "stream",
          "name": "stdout",
          "text": [
            "Data not found or not properly organized. Downloading and preparing data...\n",
            "Downloading https://www.robots.ox.ac.uk/~vgg/data/flowers/102/102flowers.tgz ...\n",
            "Downloading https://www.robots.ox.ac.uk/~vgg/data/flowers/102/imagelabels.mat ...\n",
            "Downloading https://www.robots.ox.ac.uk/~vgg/data/flowers/102/setid.mat ...\n",
            "Extracting /content/command-line-app/flowers/102flowers.tgz ...\n",
            "Extraction complete. Contents of the data directory:\n",
            "imagelabels.mat\n",
            "102flowers.tgz\n",
            "setid.mat\n",
            "jpg\n",
            "Data already extracted.\n",
            "Moving training images...\n",
            "Moving validation images...\n",
            "Moving test images...\n",
            "Data split complete.\n",
            "Using device: cuda\n",
            "Downloading: \"https://download.pytorch.org/models/resnet50-11ad3fa6.pth\" to /root/.cache/torch/hub/checkpoints/resnet50-11ad3fa6.pth\n",
            "100% 97.8M/97.8M [00:00<00:00, 153MB/s]\n",
            "Epoch 1/30: 100% 32/32 [00:08<00:00,  3.84it/s]\n",
            "Epoch 1/30\n",
            "Train loss: 4.6487, Validation loss: 4.5636\n",
            "Validation accuracy: 0.0471\n",
            "New best model saved with accuracy: 0.0471\n",
            "Epoch 2/30: 100% 32/32 [00:07<00:00,  4.41it/s]\n",
            "Epoch 2/30\n",
            "Train loss: 4.5072, Validation loss: 4.2347\n",
            "Validation accuracy: 0.1667\n",
            "New best model saved with accuracy: 0.1667\n",
            "Epoch 3/30: 100% 32/32 [00:07<00:00,  4.39it/s]\n",
            "Epoch 3/30\n",
            "Train loss: 4.0796, Validation loss: 3.5045\n",
            "Validation accuracy: 0.2627\n",
            "New best model saved with accuracy: 0.2627\n",
            "Epoch 4/30: 100% 32/32 [00:07<00:00,  4.41it/s]\n",
            "Epoch 4/30\n",
            "Train loss: 3.3893, Validation loss: 2.7848\n",
            "Validation accuracy: 0.3814\n",
            "New best model saved with accuracy: 0.3814\n",
            "Epoch 5/30: 100% 32/32 [00:07<00:00,  4.38it/s]\n",
            "Epoch 5/30\n",
            "Train loss: 2.8884, Validation loss: 2.2968\n",
            "Validation accuracy: 0.5284\n",
            "New best model saved with accuracy: 0.5284\n",
            "Epoch 6/30: 100% 32/32 [00:07<00:00,  4.31it/s]\n",
            "Epoch 6/30\n",
            "Train loss: 2.4997, Validation loss: 2.0251\n",
            "Validation accuracy: 0.5784\n",
            "New best model saved with accuracy: 0.5784\n",
            "Epoch 7/30: 100% 32/32 [00:07<00:00,  4.32it/s]\n",
            "Epoch 7/30\n",
            "Train loss: 2.3277, Validation loss: 1.7654\n",
            "Validation accuracy: 0.6549\n",
            "New best model saved with accuracy: 0.6549\n",
            "Epoch 8/30: 100% 32/32 [00:07<00:00,  4.39it/s]\n",
            "Epoch 8/30\n",
            "Train loss: 2.1070, Validation loss: 1.6826\n",
            "Validation accuracy: 0.6784\n",
            "New best model saved with accuracy: 0.6784\n",
            "Epoch 9/30: 100% 32/32 [00:07<00:00,  4.31it/s]\n",
            "Epoch 9/30\n",
            "Train loss: 1.9987, Validation loss: 1.6044\n",
            "Validation accuracy: 0.6667\n",
            "Epoch 10/30: 100% 32/32 [00:07<00:00,  4.34it/s]\n",
            "Epoch 10/30\n",
            "Train loss: 1.9440, Validation loss: 1.5667\n",
            "Validation accuracy: 0.6873\n",
            "New best model saved with accuracy: 0.6873\n",
            "Epoch 11/30: 100% 32/32 [00:07<00:00,  4.06it/s]\n",
            "Epoch 11/30\n",
            "Train loss: 1.9555, Validation loss: 1.5922\n",
            "Validation accuracy: 0.6912\n",
            "New best model saved with accuracy: 0.6912\n",
            "Epoch 12/30: 100% 32/32 [00:07<00:00,  4.14it/s]\n",
            "Epoch 12/30\n",
            "Train loss: 1.9115, Validation loss: 1.5303\n",
            "Validation accuracy: 0.6882\n",
            "Epoch 13/30: 100% 32/32 [00:07<00:00,  4.13it/s]\n",
            "Epoch 13/30\n",
            "Train loss: 1.8725, Validation loss: 1.4148\n",
            "Validation accuracy: 0.7049\n",
            "New best model saved with accuracy: 0.7049\n",
            "Epoch 14/30: 100% 32/32 [00:07<00:00,  4.13it/s]\n",
            "Epoch 14/30\n",
            "Train loss: 1.8350, Validation loss: 1.3197\n",
            "Validation accuracy: 0.7010\n",
            "Epoch 15/30: 100% 32/32 [00:07<00:00,  4.15it/s]\n",
            "Epoch 15/30\n",
            "Train loss: 1.7671, Validation loss: 1.1997\n",
            "Validation accuracy: 0.7461\n",
            "New best model saved with accuracy: 0.7461\n",
            "Epoch 16/30: 100% 32/32 [00:07<00:00,  4.18it/s]\n",
            "Epoch 16/30\n",
            "Train loss: 1.5654, Validation loss: 1.0139\n",
            "Validation accuracy: 0.7647\n",
            "New best model saved with accuracy: 0.7647\n",
            "Epoch 17/30: 100% 32/32 [00:07<00:00,  4.10it/s]\n",
            "Epoch 17/30\n",
            "Train loss: 1.4018, Validation loss: 0.8926\n",
            "Validation accuracy: 0.7853\n",
            "New best model saved with accuracy: 0.7853\n",
            "Epoch 18/30: 100% 32/32 [00:07<00:00,  4.16it/s]\n",
            "Epoch 18/30\n",
            "Train loss: 1.2032, Validation loss: 0.7621\n",
            "Validation accuracy: 0.8059\n",
            "New best model saved with accuracy: 0.8059\n",
            "Epoch 19/30: 100% 32/32 [00:07<00:00,  4.16it/s]\n",
            "Epoch 19/30\n",
            "Train loss: 1.0414, Validation loss: 0.7326\n",
            "Validation accuracy: 0.8039\n",
            "Epoch 20/30: 100% 32/32 [00:07<00:00,  4.13it/s]\n",
            "Epoch 20/30\n",
            "Train loss: 0.9719, Validation loss: 0.6859\n",
            "Validation accuracy: 0.8255\n",
            "New best model saved with accuracy: 0.8255\n",
            "Epoch 21/30: 100% 32/32 [00:08<00:00,  3.79it/s]\n",
            "Epoch 21/30\n",
            "Train loss: 0.8356, Validation loss: 0.5786\n",
            "Validation accuracy: 0.8500\n",
            "New best model saved with accuracy: 0.8500\n",
            "Epoch 22/30: 100% 32/32 [00:08<00:00,  3.74it/s]\n",
            "Epoch 22/30\n",
            "Train loss: 0.6469, Validation loss: 0.5551\n",
            "Validation accuracy: 0.8490\n",
            "Epoch 23/30: 100% 32/32 [00:08<00:00,  3.81it/s]\n",
            "Epoch 23/30\n",
            "Train loss: 0.6721, Validation loss: 0.5142\n",
            "Validation accuracy: 0.8676\n",
            "New best model saved with accuracy: 0.8676\n",
            "Epoch 24/30: 100% 32/32 [00:08<00:00,  3.83it/s]\n",
            "Epoch 24/30\n",
            "Train loss: 0.5595, Validation loss: 0.4742\n",
            "Validation accuracy: 0.8696\n",
            "New best model saved with accuracy: 0.8696\n",
            "Epoch 25/30: 100% 32/32 [00:08<00:00,  3.84it/s]\n",
            "Epoch 25/30\n",
            "Train loss: 0.5122, Validation loss: 0.4475\n",
            "Validation accuracy: 0.8765\n",
            "New best model saved with accuracy: 0.8765\n",
            "Epoch 26/30: 100% 32/32 [00:08<00:00,  3.82it/s]\n",
            "Epoch 26/30\n",
            "Train loss: 0.4483, Validation loss: 0.4616\n",
            "Validation accuracy: 0.8784\n",
            "New best model saved with accuracy: 0.8784\n",
            "Epoch 27/30: 100% 32/32 [00:08<00:00,  3.81it/s]\n",
            "Epoch 27/30\n",
            "Train loss: 0.3773, Validation loss: 0.4245\n",
            "Validation accuracy: 0.8961\n",
            "New best model saved with accuracy: 0.8961\n",
            "Epoch 28/30: 100% 32/32 [00:08<00:00,  3.81it/s]\n",
            "Epoch 28/30\n",
            "Train loss: 0.3470, Validation loss: 0.4154\n",
            "Validation accuracy: 0.8990\n",
            "New best model saved with accuracy: 0.8990\n",
            "Epoch 29/30: 100% 32/32 [00:08<00:00,  3.71it/s]\n",
            "Epoch 29/30\n",
            "Train loss: 0.3215, Validation loss: 0.4122\n",
            "Validation accuracy: 0.8961\n",
            "Epoch 30/30: 100% 32/32 [00:08<00:00,  3.82it/s]\n",
            "Epoch 30/30\n",
            "Train loss: 0.3099, Validation loss: 0.4005\n",
            "Validation accuracy: 0.9039\n",
            "New best model saved with accuracy: 0.9039\n",
            "Training complete\n",
            "Best validation accuracy: 0.9039\n"
          ]
        }
      ]
    },
    {
      "cell_type": "code",
      "source": [
        "!find /content -name predict.py"
      ],
      "metadata": {
        "colab": {
          "base_uri": "https://localhost:8080/"
        },
        "id": "_w2BqSvqxx2M",
        "outputId": "73306bcd-2e1c-4820-8e2c-dbd84493e8b3"
      },
      "execution_count": 5,
      "outputs": [
        {
          "output_type": "stream",
          "name": "stdout",
          "text": [
            "/content/command-line-app/predict.py\n"
          ]
        }
      ]
    },
    {
      "cell_type": "code",
      "source": [
        "!python /content/command-line-app/predict.py \\\n",
        " '/content/command-line-app/flowers/test/22/image_05349.jpg' \\\n",
        " '/content/command-line-app/checkpoint.pth'\\\n",
        "  --top_k 5\\\n",
        "  --category_names '/content/cat_to_name.json'\\\n",
        "  --gpu"
      ],
      "metadata": {
        "id": "UMVMqVMNLPQO",
        "colab": {
          "base_uri": "https://localhost:8080/"
        },
        "outputId": "e0db8d6b-ecd8-4d39-a9fd-0c95259f958e"
      },
      "execution_count": 7,
      "outputs": [
        {
          "output_type": "stream",
          "name": "stdout",
          "text": [
            "Using device: cuda\n",
            "\n",
            "Top 5 Classes:\n",
            "pincushion flower: 1.000\n",
            "great masterwort: 0.000\n",
            "grape hyacinth: 0.000\n",
            "globe thistle: 0.000\n",
            "pink-yellow dahlia: 0.000\n"
          ]
        }
      ]
    }
  ]
}